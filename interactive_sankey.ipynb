{
 "cells": [
  {
   "cell_type": "code",
   "execution_count": 1,
   "metadata": {},
   "outputs": [],
   "source": [
    "import pandas as pd"
   ]
  },
  {
   "cell_type": "code",
   "execution_count": 31,
   "metadata": {},
   "outputs": [
    {
     "data": {
      "text/html": [
       "<div>\n",
       "<style scoped>\n",
       "    .dataframe tbody tr th:only-of-type {\n",
       "        vertical-align: middle;\n",
       "    }\n",
       "\n",
       "    .dataframe tbody tr th {\n",
       "        vertical-align: top;\n",
       "    }\n",
       "\n",
       "    .dataframe thead th {\n",
       "        text-align: right;\n",
       "    }\n",
       "</style>\n",
       "<table border=\"1\" class=\"dataframe\">\n",
       "  <thead>\n",
       "    <tr style=\"text-align: right;\">\n",
       "      <th></th>\n",
       "      <th>PN32</th>\n",
       "      <th>PN33</th>\n",
       "      <th>PN34</th>\n",
       "      <th>PN35</th>\n",
       "      <th>PN36</th>\n",
       "      <th>PN37</th>\n",
       "      <th>count</th>\n",
       "    </tr>\n",
       "  </thead>\n",
       "  <tbody>\n",
       "    <tr>\n",
       "      <th>0</th>\n",
       "      <td>0</td>\n",
       "      <td>0</td>\n",
       "      <td>0</td>\n",
       "      <td>0</td>\n",
       "      <td>0</td>\n",
       "      <td>1</td>\n",
       "      <td>5709</td>\n",
       "    </tr>\n",
       "    <tr>\n",
       "      <th>1</th>\n",
       "      <td>0</td>\n",
       "      <td>0</td>\n",
       "      <td>0</td>\n",
       "      <td>0</td>\n",
       "      <td>1</td>\n",
       "      <td>0</td>\n",
       "      <td>4838</td>\n",
       "    </tr>\n",
       "    <tr>\n",
       "      <th>2</th>\n",
       "      <td>0</td>\n",
       "      <td>0</td>\n",
       "      <td>0</td>\n",
       "      <td>0</td>\n",
       "      <td>1</td>\n",
       "      <td>1</td>\n",
       "      <td>1160</td>\n",
       "    </tr>\n",
       "    <tr>\n",
       "      <th>3</th>\n",
       "      <td>0</td>\n",
       "      <td>0</td>\n",
       "      <td>0</td>\n",
       "      <td>1</td>\n",
       "      <td>0</td>\n",
       "      <td>0</td>\n",
       "      <td>6454</td>\n",
       "    </tr>\n",
       "    <tr>\n",
       "      <th>4</th>\n",
       "      <td>0</td>\n",
       "      <td>0</td>\n",
       "      <td>0</td>\n",
       "      <td>1</td>\n",
       "      <td>0</td>\n",
       "      <td>1</td>\n",
       "      <td>1017</td>\n",
       "    </tr>\n",
       "  </tbody>\n",
       "</table>\n",
       "</div>"
      ],
      "text/plain": [
       "   PN32  PN33  PN34  PN35  PN36  PN37  count\n",
       "0     0     0     0     0     0     1   5709\n",
       "1     0     0     0     0     1     0   4838\n",
       "2     0     0     0     0     1     1   1160\n",
       "3     0     0     0     1     0     0   6454\n",
       "4     0     0     0     1     0     1   1017"
      ]
     },
     "execution_count": 31,
     "metadata": {},
     "output_type": "execute_result"
    }
   ],
   "source": [
    "df = pd.read_csv(\"PN_voucher_redemption_201805201656.csv\")\n",
    "df.head()"
   ]
  },
  {
   "cell_type": "code",
   "execution_count": 32,
   "metadata": {},
   "outputs": [
    {
     "data": {
      "text/plain": [
       "['PN32', 'PN33', 'PN34', 'PN35', 'PN36', 'PN37']"
      ]
     },
     "execution_count": 32,
     "metadata": {},
     "output_type": "execute_result"
    }
   ],
   "source": [
    "periods = list(df.columns)[:-1]\n",
    "periods"
   ]
  },
  {
   "cell_type": "code",
   "execution_count": 33,
   "metadata": {},
   "outputs": [
    {
     "data": {
      "text/plain": [
       "{'PN32': [0, 1],\n",
       " 'PN33': [0, 1],\n",
       " 'PN34': [0, 1],\n",
       " 'PN35': [0, 1],\n",
       " 'PN36': [0, 1],\n",
       " 'PN37': [1, 0]}"
      ]
     },
     "execution_count": 33,
     "metadata": {},
     "output_type": "execute_result"
    }
   ],
   "source": [
    "segments = {\n",
    "    col: list(df[col].unique()) for col in periods\n",
    "}\n",
    "segments"
   ]
  },
  {
   "cell_type": "code",
   "execution_count": 34,
   "metadata": {},
   "outputs": [
    {
     "data": {
      "text/plain": [
       "[[0, 0, 0, 0, 0, 1, 5709],\n",
       " [0, 0, 0, 0, 1, 0, 4838],\n",
       " [0, 0, 0, 0, 1, 1, 1160],\n",
       " [0, 0, 0, 1, 0, 0, 6454],\n",
       " [0, 0, 0, 1, 0, 1, 1017],\n",
       " [0, 0, 0, 1, 1, 0, 1312],\n",
       " [0, 0, 0, 1, 1, 1, 653],\n",
       " [0, 0, 1, 0, 0, 0, 7546],\n",
       " [0, 0, 1, 0, 0, 1, 1121],\n",
       " [0, 0, 1, 0, 1, 0, 989],\n",
       " [0, 0, 1, 0, 1, 1, 444],\n",
       " [0, 0, 1, 1, 0, 0, 1736],\n",
       " [0, 0, 1, 1, 0, 1, 540],\n",
       " [0, 0, 1, 1, 1, 0, 650],\n",
       " [0, 0, 1, 1, 1, 1, 484],\n",
       " [0, 1, 0, 0, 0, 0, 7871],\n",
       " [0, 1, 0, 0, 0, 1, 1391],\n",
       " [0, 1, 0, 0, 1, 0, 898],\n",
       " [0, 1, 0, 0, 1, 1, 446],\n",
       " [0, 1, 0, 1, 0, 0, 1160],\n",
       " [0, 1, 0, 1, 0, 1, 537],\n",
       " [0, 1, 0, 1, 1, 0, 421],\n",
       " [0, 1, 0, 1, 1, 1, 375],\n",
       " [0, 1, 1, 0, 0, 0, 1912],\n",
       " [0, 1, 1, 0, 0, 1, 718],\n",
       " [0, 1, 1, 0, 1, 0, 531],\n",
       " [0, 1, 1, 0, 1, 1, 464],\n",
       " [0, 1, 1, 1, 0, 0, 706],\n",
       " [0, 1, 1, 1, 0, 1, 507],\n",
       " [0, 1, 1, 1, 1, 0, 393],\n",
       " [0, 1, 1, 1, 1, 1, 623],\n",
       " [1, 0, 0, 0, 0, 0, 6313],\n",
       " [1, 0, 0, 0, 0, 1, 751],\n",
       " [1, 0, 0, 0, 1, 0, 926],\n",
       " [1, 0, 0, 0, 1, 1, 402],\n",
       " [1, 0, 0, 1, 0, 0, 1216],\n",
       " [1, 0, 0, 1, 0, 1, 401],\n",
       " [1, 0, 0, 1, 1, 0, 555],\n",
       " [1, 0, 0, 1, 1, 1, 436],\n",
       " [1, 0, 1, 0, 0, 0, 1184],\n",
       " [1, 0, 1, 0, 0, 1, 427],\n",
       " [1, 0, 1, 0, 1, 0, 378],\n",
       " [1, 0, 1, 0, 1, 1, 280],\n",
       " [1, 0, 1, 1, 0, 0, 645],\n",
       " [1, 0, 1, 1, 0, 1, 387],\n",
       " [1, 0, 1, 1, 1, 0, 455],\n",
       " [1, 0, 1, 1, 1, 1, 554],\n",
       " [1, 1, 0, 0, 0, 0, 1645],\n",
       " [1, 1, 0, 0, 0, 1, 568],\n",
       " [1, 1, 0, 0, 1, 0, 466],\n",
       " [1, 1, 0, 0, 1, 1, 351],\n",
       " [1, 1, 0, 1, 0, 0, 574],\n",
       " [1, 1, 0, 1, 0, 1, 496],\n",
       " [1, 1, 0, 1, 1, 0, 440],\n",
       " [1, 1, 0, 1, 1, 1, 661],\n",
       " [1, 1, 1, 0, 0, 0, 818],\n",
       " [1, 1, 1, 0, 0, 1, 508],\n",
       " [1, 1, 1, 0, 1, 0, 364],\n",
       " [1, 1, 1, 0, 1, 1, 559],\n",
       " [1, 1, 1, 1, 0, 0, 596],\n",
       " [1, 1, 1, 1, 0, 1, 723],\n",
       " [1, 1, 1, 1, 1, 0, 682],\n",
       " [1, 1, 1, 1, 1, 1, 1919]]"
      ]
     },
     "execution_count": 34,
     "metadata": {},
     "output_type": "execute_result"
    }
   ],
   "source": [
    "df.values.tolist()"
   ]
  },
  {
   "cell_type": "code",
   "execution_count": null,
   "metadata": {},
   "outputs": [],
   "source": []
  },
  {
   "cell_type": "code",
   "execution_count": null,
   "metadata": {},
   "outputs": [],
   "source": []
  },
  {
   "cell_type": "code",
   "execution_count": null,
   "metadata": {},
   "outputs": [],
   "source": []
  }
 ],
 "metadata": {
  "kernelspec": {
   "display_name": "dataviz",
   "language": "python",
   "name": "dataviz"
  },
  "language_info": {
   "codemirror_mode": {
    "name": "ipython",
    "version": 3
   },
   "file_extension": ".py",
   "mimetype": "text/x-python",
   "name": "python",
   "nbconvert_exporter": "python",
   "pygments_lexer": "ipython3",
   "version": "3.5.2"
  }
 },
 "nbformat": 4,
 "nbformat_minor": 2
}
